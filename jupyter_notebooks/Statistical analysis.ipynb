{
 "cells": [
  {
   "cell_type": "markdown",
   "metadata": {},
   "source": [
    "# HYPOTHESIS TESTING\n",
    "\n",
    "#### OBJECTIVES:\n",
    "To carry out testing on the hypotheses proposed using statistical analysis with visuals to analyse it.\n",
    "\n",
    "#### INPUT: \n",
    "The merged_dataset used for the analysis,python libraries for learning and plotting of the data\n",
    "\n",
    "#### OUTPUT: \n",
    "Result of the hypothesis"
   ]
  },
  {
   "cell_type": "code",
   "execution_count": 1,
   "metadata": {},
   "outputs": [],
   "source": [
    "# import libraries\n",
    "import numpy as np # linear algebra\n",
    "import pandas as pd # data processing, CSV file I/O (e.g. pd.read_csv)\n",
    "import seaborn as sns # visualization\n",
    "import plotly.express as px # visualization\n",
    "import matplotlib.pyplot as plt # plotting\n",
    "\n",
    "# Load the merged dataset\n",
    "df_merged = pd.read_csv('merged_dataset.csv')"
   ]
  },
  {
   "cell_type": "markdown",
   "metadata": {},
   "source": [
    "# **Hypothesis 1**:  Using Chi-Square Test\n",
    "• NULL HYPOTHESIS(H<sub>0</sub>): Malaria deaths are independent of underreporting\n",
    "\n",
    "•  ALTERNATIVE HYPOTHESIS|(H<sub>1</sub>): Malaria deaths are significantly higher in areas of high underreporting\n",
    "\n",
    "\n"
   ]
  },
  {
   "cell_type": "code",
   "execution_count": 2,
   "metadata": {},
   "outputs": [
    {
     "name": "stdout",
     "output_type": "stream",
     "text": [
      "Chi-Square Statistic: 562.6588785046729\n",
      "P-value: 2.219350768431402e-124\n",
      "Reject H₀: Underreporting significantly affects malaria deaths.\n"
     ]
    }
   ],
   "source": [
    "import scipy.stats as stats\n",
    "\n",
    "# Step 1: Define underreporting\n",
    "df_merged['Underreporting'] = df_merged['No. of cases_median'] - df_merged['Reported Cases']\n",
    "df_merged['Underreporting Level'] = df_merged['Underreporting'].apply(lambda x: 'High' if x > df_merged['Underreporting'].median() else 'Low')\n",
    "\n",
    "# Step 2: Define death level\n",
    "df_merged['Death Level'] = df_merged['No. of deaths_median'].apply(lambda x: 'High' if x > df_merged['No. of deaths_median'].median() else 'Low')\n",
    "\n",
    "# Step 3: Create contingency table\n",
    "contingency_table = pd.crosstab(df_merged['Underreporting Level'], df_merged['Death Level'])\n",
    "\n",
    "# Step 4: Perform Chi-Square test\n",
    "chi2, p, dof, expected = stats.chi2_contingency(contingency_table)\n",
    "\n",
    "print(f\"Chi-Square Statistic: {chi2}\")\n",
    "print(f\"P-value: {p}\")\n",
    "\n",
    "# Interpretation\n",
    "if p < 0.05:\n",
    "    print(\"Reject H₀: Underreporting significantly affects malaria deaths.\")\n",
    "else:\n",
    "    print(\"Fail to reject H₀: No significant effect of underreporting on malaria deaths.\")\n"
   ]
  }
 ],
 "metadata": {
  "kernelspec": {
   "display_name": ".venv",
   "language": "python",
   "name": "python3"
  },
  "language_info": {
   "codemirror_mode": {
    "name": "ipython",
    "version": 3
   },
   "file_extension": ".py",
   "mimetype": "text/x-python",
   "name": "python",
   "nbconvert_exporter": "python",
   "pygments_lexer": "ipython3",
   "version": "3.12.8"
  }
 },
 "nbformat": 4,
 "nbformat_minor": 2
}
