{
 "cells": [
  {
   "cell_type": "markdown",
   "metadata": {},
   "source": [
    "# SECTION 1:\n",
    "* LOAD MERGED DATASET: this was saved on the ETL page into a .csv file for easy manipulation on jupyter notebook"
   ]
  },
  {
   "cell_type": "code",
   "execution_count": 1,
   "metadata": {},
   "outputs": [],
   "source": [
    "# import libraries\n",
    "import numpy as np # linear algebra\n",
    "import pandas as pd # data processing, CSV file I/O (e.g. pd.read_csv)\n",
    "import seaborn as sns # visualization\n",
    "import plotly.express as px # visualization\n",
    "import matplotlib.pyplot as plt # plotting"
   ]
  },
  {
   "cell_type": "code",
   "execution_count": 2,
   "metadata": {},
   "outputs": [
    {
     "data": {
      "text/html": [
       "<div>\n",
       "<style scoped>\n",
       "    .dataframe tbody tr th:only-of-type {\n",
       "        vertical-align: middle;\n",
       "    }\n",
       "\n",
       "    .dataframe tbody tr th {\n",
       "        vertical-align: top;\n",
       "    }\n",
       "\n",
       "    .dataframe thead th {\n",
       "        text-align: right;\n",
       "    }\n",
       "</style>\n",
       "<table border=\"1\" class=\"dataframe\">\n",
       "  <thead>\n",
       "    <tr style=\"text-align: right;\">\n",
       "      <th></th>\n",
       "      <th>Country</th>\n",
       "      <th>Year</th>\n",
       "      <th>Estimated Cases</th>\n",
       "      <th>Estimated Deaths</th>\n",
       "      <th>No. of cases_median</th>\n",
       "      <th>No. of cases_min</th>\n",
       "      <th>No. of cases_max</th>\n",
       "      <th>No. of deaths_median</th>\n",
       "      <th>No. of deaths_min</th>\n",
       "      <th>No. of deaths_max</th>\n",
       "      <th>Reported Cases</th>\n",
       "      <th>Reported Deaths</th>\n",
       "      <th>Malaria Incidence</th>\n",
       "      <th>WHO Region</th>\n",
       "    </tr>\n",
       "  </thead>\n",
       "  <tbody>\n",
       "    <tr>\n",
       "      <th>0</th>\n",
       "      <td>Afghanistan</td>\n",
       "      <td>2017</td>\n",
       "      <td>630308[495000-801000]</td>\n",
       "      <td>298[110-510]</td>\n",
       "      <td>630308</td>\n",
       "      <td>495000.0</td>\n",
       "      <td>801000.0</td>\n",
       "      <td>298</td>\n",
       "      <td>110.0</td>\n",
       "      <td>510.0</td>\n",
       "      <td>161778.0</td>\n",
       "      <td>10.0</td>\n",
       "      <td>27.07</td>\n",
       "      <td>Eastern Mediterranean</td>\n",
       "    </tr>\n",
       "    <tr>\n",
       "      <th>1</th>\n",
       "      <td>Algeria</td>\n",
       "      <td>2017</td>\n",
       "      <td>0</td>\n",
       "      <td>0</td>\n",
       "      <td>0</td>\n",
       "      <td>498000.0</td>\n",
       "      <td>1389000.0</td>\n",
       "      <td>0</td>\n",
       "      <td>390.0</td>\n",
       "      <td>3565.0</td>\n",
       "      <td>0.0</td>\n",
       "      <td>0.0</td>\n",
       "      <td>0.00</td>\n",
       "      <td>Africa</td>\n",
       "    </tr>\n",
       "    <tr>\n",
       "      <th>2</th>\n",
       "      <td>Angola</td>\n",
       "      <td>2017</td>\n",
       "      <td>4615605[3106000-6661000]</td>\n",
       "      <td>13316[9970-16600]</td>\n",
       "      <td>4615605</td>\n",
       "      <td>3106000.0</td>\n",
       "      <td>6661000.0</td>\n",
       "      <td>13316</td>\n",
       "      <td>9970.0</td>\n",
       "      <td>16600.0</td>\n",
       "      <td>3874892.0</td>\n",
       "      <td>13967.0</td>\n",
       "      <td>228.91</td>\n",
       "      <td>Africa</td>\n",
       "    </tr>\n",
       "    <tr>\n",
       "      <th>3</th>\n",
       "      <td>Argentina</td>\n",
       "      <td>2017</td>\n",
       "      <td>0</td>\n",
       "      <td>0</td>\n",
       "      <td>0</td>\n",
       "      <td>498000.0</td>\n",
       "      <td>1389000.0</td>\n",
       "      <td>0</td>\n",
       "      <td>390.0</td>\n",
       "      <td>3565.0</td>\n",
       "      <td>0.0</td>\n",
       "      <td>1.0</td>\n",
       "      <td>0.00</td>\n",
       "      <td>Americas</td>\n",
       "    </tr>\n",
       "    <tr>\n",
       "      <th>4</th>\n",
       "      <td>Armenia</td>\n",
       "      <td>2017</td>\n",
       "      <td>0</td>\n",
       "      <td>0</td>\n",
       "      <td>0</td>\n",
       "      <td>498000.0</td>\n",
       "      <td>1389000.0</td>\n",
       "      <td>0</td>\n",
       "      <td>390.0</td>\n",
       "      <td>3565.0</td>\n",
       "      <td>0.0</td>\n",
       "      <td>1.0</td>\n",
       "      <td>0.00</td>\n",
       "      <td>Europe</td>\n",
       "    </tr>\n",
       "  </tbody>\n",
       "</table>\n",
       "</div>"
      ],
      "text/plain": [
       "       Country  Year           Estimated Cases   Estimated Deaths  \\\n",
       "0  Afghanistan  2017     630308[495000-801000]       298[110-510]   \n",
       "1      Algeria  2017                         0                  0   \n",
       "2       Angola  2017  4615605[3106000-6661000]  13316[9970-16600]   \n",
       "3    Argentina  2017                         0                  0   \n",
       "4      Armenia  2017                         0                  0   \n",
       "\n",
       "   No. of cases_median  No. of cases_min  No. of cases_max  \\\n",
       "0               630308          495000.0          801000.0   \n",
       "1                    0          498000.0         1389000.0   \n",
       "2              4615605         3106000.0         6661000.0   \n",
       "3                    0          498000.0         1389000.0   \n",
       "4                    0          498000.0         1389000.0   \n",
       "\n",
       "   No. of deaths_median  No. of deaths_min  No. of deaths_max  Reported Cases  \\\n",
       "0                   298              110.0              510.0        161778.0   \n",
       "1                     0              390.0             3565.0             0.0   \n",
       "2                 13316             9970.0            16600.0       3874892.0   \n",
       "3                     0              390.0             3565.0             0.0   \n",
       "4                     0              390.0             3565.0             0.0   \n",
       "\n",
       "   Reported Deaths  Malaria Incidence             WHO Region  \n",
       "0             10.0              27.07  Eastern Mediterranean  \n",
       "1              0.0               0.00                 Africa  \n",
       "2          13967.0             228.91                 Africa  \n",
       "3              1.0               0.00               Americas  \n",
       "4              1.0               0.00                 Europe  "
      ]
     },
     "execution_count": 2,
     "metadata": {},
     "output_type": "execute_result"
    }
   ],
   "source": [
    "df_merged = pd.read_csv('merged_dataset.csv')\n",
    "df_merged.head()"
   ]
  },
  {
   "cell_type": "markdown",
   "metadata": {},
   "source": [
    "# SECTION 2:\n",
    "* DESCRIPTIVE ANALYSIS; to understand the malaria trends across multiple countries, the following analysis are done to check for the data structiure of the merged data, if there are any discrepancies needed to fix."
   ]
  },
  {
   "cell_type": "markdown",
   "metadata": {},
   "source": [
    "# STATISTICAL SUMMARY"
   ]
  },
  {
   "cell_type": "markdown",
   "metadata": {},
   "source": [
    " Summary of the Numeric Data"
   ]
  },
  {
   "cell_type": "code",
   "execution_count": 3,
   "metadata": {},
   "outputs": [
    {
     "name": "stdout",
     "output_type": "stream",
     "text": [
      "              Year  No. of cases_median  No. of cases_min  No. of cases_max  \\\n",
      "count   856.000000         8.560000e+02      8.560000e+02      8.560000e+02   \n",
      "mean   2013.500000         2.081990e+06      1.552671e+06      3.629022e+06   \n",
      "std       2.292627         6.381892e+06      4.365077e+06      8.950683e+06   \n",
      "min    2010.000000         0.000000e+00      3.000000e+01      4.000000e+01   \n",
      "25%    2011.750000         2.385000e+02      1.997500e+05      4.637500e+05   \n",
      "50%    2013.500000         3.752100e+04      4.980000e+05      1.389000e+06   \n",
      "75%    2015.250000         1.656628e+06      8.857500e+05      2.697750e+06   \n",
      "max    2017.000000         6.202089e+07      4.388000e+07      8.484000e+07   \n",
      "\n",
      "       No. of deaths_median  No. of deaths_min  No. of deaths_max  \\\n",
      "count            856.000000         856.000000         856.000000   \n",
      "mean            4713.880841        3590.996495        7595.655374   \n",
      "std            13183.312889       10348.503549       16101.378050   \n",
      "min                0.000000           0.000000           1.000000   \n",
      "25%                0.000000          80.000000        1352.500000   \n",
      "50%               55.500000         390.000000        3565.000000   \n",
      "75%             4096.000000        1772.500000        5920.000000   \n",
      "max           146734.000000      115000.000000      179000.000000   \n",
      "\n",
      "       Reported Cases  Reported Deaths  Malaria Incidence  \n",
      "count    8.560000e+02       856.000000         856.000000  \n",
      "mean     6.652528e+05      1182.592290          91.608855  \n",
      "std      1.733589e+06      3550.697097         140.085468  \n",
      "min      0.000000e+00         0.000000           0.000000  \n",
      "25%      2.300000e+02         0.000000           0.147500  \n",
      "50%      1.763950e+04        18.000000           7.090000  \n",
      "75%      3.497718e+05       652.250000         155.460000  \n",
      "max      1.533084e+07     39054.000000         585.540000  \n"
     ]
    }
   ],
   "source": [
    "#gives a summary of the numerical columns \n",
    "print(df_merged.describe())"
   ]
  },
  {
   "cell_type": "markdown",
   "metadata": {},
   "source": [
    "Categorical Summary"
   ]
  },
  {
   "cell_type": "code",
   "execution_count": 4,
   "metadata": {},
   "outputs": [
    {
     "name": "stdout",
     "output_type": "stream",
     "text": [
      "107 countries in dataset\n",
      "['Afghanistan' 'Algeria' 'Angola' 'Argentina' 'Armenia' 'Azerbaijan'\n",
      " 'Bangladesh' 'Belize' 'Benin' 'Bhutan' 'Bolivia (Plurinational State of)'\n",
      " 'Botswana' 'Brazil' 'Burkina Faso' 'Burundi' 'Cabo Verde' 'Cambodia'\n",
      " 'Cameroon' 'Central African Republic' 'Chad' 'China' 'Colombia' 'Comoros'\n",
      " 'Congo' 'Costa Rica' \"Côte d'Ivoire\"\n",
      " \"Democratic People's Republic of Korea\"\n",
      " 'Democratic Republic of the Congo' 'Djibouti' 'Dominican Republic'\n",
      " 'Ecuador' 'Egypt' 'El Salvador' 'Equatorial Guinea' 'Eritrea' 'Eswatini'\n",
      " 'Ethiopia' 'Gabon' 'Gambia' 'Georgia' 'Ghana' 'Guatemala' 'Guinea'\n",
      " 'Guinea-Bissau' 'Guyana' 'Haiti' 'Honduras' 'India' 'Indonesia'\n",
      " 'Iran (Islamic Republic of)' 'Iraq' 'Kazakhstan' 'Kenya' 'Kyrgyzstan'\n",
      " \"Lao People's Democratic Republic\" 'Liberia' 'Madagascar' 'Malawi'\n",
      " 'Malaysia' 'Mali' 'Mauritania' 'Mexico' 'Morocco' 'Mozambique' 'Myanmar'\n",
      " 'Namibia' 'Nepal' 'Nicaragua' 'Niger' 'Nigeria' 'Oman' 'Pakistan'\n",
      " 'Panama' 'Papua New Guinea' 'Paraguay' 'Peru' 'Philippines'\n",
      " 'Republic of Korea' 'Rwanda' 'Sao Tome and Principe' 'Saudi Arabia'\n",
      " 'Senegal' 'Sierra Leone' 'Solomon Islands' 'Somalia' 'South Africa'\n",
      " 'South Sudan' 'Sri Lanka' 'Sudan' 'Suriname' 'Syrian Arab Republic'\n",
      " 'Tajikistan' 'Thailand' 'Timor-Leste' 'Togo' 'Turkey' 'Turkmenistan'\n",
      " 'Uganda' 'United Arab Emirates' 'United Republic of Tanzania'\n",
      " 'Uzbekistan' 'Vanuatu' 'Venezuela (Bolivarian Republic of)' 'Viet Nam'\n",
      " 'Yemen' 'Zambia' 'Zimbabwe']\n"
     ]
    }
   ],
   "source": [
    "# shows categorical columns\n",
    "print(df_merged['Country'].nunique(), \"countries in dataset\")  \n",
    "print(df_merged['Country'].unique())  # List of unique countries\n"
   ]
  },
  {
   "cell_type": "markdown",
   "metadata": {},
   "source": [
    "# HANDLING MISSING/NEGATIVE VALUES\n",
    "\n",
    "Check For Outliers (negative values)"
   ]
  },
  {
   "cell_type": "code",
   "execution_count": 5,
   "metadata": {},
   "outputs": [
    {
     "name": "stdout",
     "output_type": "stream",
     "text": [
      "✅ No negative values found in case or death estimates.\n"
     ]
    }
   ],
   "source": [
    "# Check for negative values in case and death estimates\n",
    "negative_values = df_merged[\n",
    "    (df_merged[['No. of cases_median', 'No. of cases_min', 'No. of cases_max', \n",
    "                'No. of deaths_median', 'No. of deaths_min', 'No. of deaths_max']] < 0).any(axis=1)\n",
    "]\n",
    "\n",
    "if negative_values.empty:\n",
    "    print(\"✅ No negative values found in case or death estimates.\")\n",
    "else:\n",
    "    print(\"⚠️ Negative values found in case or death estimates:\")\n",
    "    print(negative_values)\n"
   ]
  },
  {
   "cell_type": "markdown",
   "metadata": {},
   "source": [
    "Missing Values"
   ]
  },
  {
   "cell_type": "code",
   "execution_count": 6,
   "metadata": {},
   "outputs": [
    {
     "name": "stdout",
     "output_type": "stream",
     "text": [
      "Missing values in the dataset:\n",
      "Country                 0\n",
      "Year                    0\n",
      "Estimated Cases         0\n",
      "Estimated Deaths        0\n",
      "No. of cases_median     0\n",
      "No. of cases_min        0\n",
      "No. of cases_max        0\n",
      "No. of deaths_median    0\n",
      "No. of deaths_min       0\n",
      "No. of deaths_max       0\n",
      "Reported Cases          0\n",
      "Reported Deaths         0\n",
      "Malaria Incidence       0\n",
      "WHO Region              0\n",
      "dtype: int64\n"
     ]
    }
   ],
   "source": [
    "#Checks for any missing values in the merged dataset\n",
    "print(\"Missing values in the dataset:\")\n",
    "print(df_merged.isnull().sum())\n"
   ]
  },
  {
   "cell_type": "markdown",
   "metadata": {},
   "source": [
    "The merged dataset is clean with no missing values, no duplicates or any negative values. This shows the quality of data is good and appropriate for furtrher analysis."
   ]
  },
  {
   "cell_type": "markdown",
   "metadata": {},
   "source": [
    "Check the numeric columns data type"
   ]
  },
  {
   "cell_type": "code",
   "execution_count": 7,
   "metadata": {},
   "outputs": [
    {
     "data": {
      "text/html": [
       "<div>\n",
       "<style scoped>\n",
       "    .dataframe tbody tr th:only-of-type {\n",
       "        vertical-align: middle;\n",
       "    }\n",
       "\n",
       "    .dataframe tbody tr th {\n",
       "        vertical-align: top;\n",
       "    }\n",
       "\n",
       "    .dataframe thead th {\n",
       "        text-align: right;\n",
       "    }\n",
       "</style>\n",
       "<table border=\"1\" class=\"dataframe\">\n",
       "  <thead>\n",
       "    <tr style=\"text-align: right;\">\n",
       "      <th></th>\n",
       "      <th>Country</th>\n",
       "      <th>Year</th>\n",
       "      <th>Estimated Cases</th>\n",
       "      <th>Estimated Deaths</th>\n",
       "      <th>No. of cases_median</th>\n",
       "      <th>No. of cases_min</th>\n",
       "      <th>No. of cases_max</th>\n",
       "      <th>No. of deaths_median</th>\n",
       "      <th>No. of deaths_min</th>\n",
       "      <th>No. of deaths_max</th>\n",
       "      <th>Reported Cases</th>\n",
       "      <th>Reported Deaths</th>\n",
       "      <th>Malaria Incidence</th>\n",
       "      <th>WHO Region</th>\n",
       "    </tr>\n",
       "  </thead>\n",
       "  <tbody>\n",
       "    <tr>\n",
       "      <th>0</th>\n",
       "      <td>Afghanistan</td>\n",
       "      <td>2017</td>\n",
       "      <td>NaN</td>\n",
       "      <td>298[110-510]</td>\n",
       "      <td>630308</td>\n",
       "      <td>495000.0</td>\n",
       "      <td>801000.0</td>\n",
       "      <td>298</td>\n",
       "      <td>110.0</td>\n",
       "      <td>510.0</td>\n",
       "      <td>161778.0</td>\n",
       "      <td>10.0</td>\n",
       "      <td>27.07</td>\n",
       "      <td>Eastern Mediterranean</td>\n",
       "    </tr>\n",
       "    <tr>\n",
       "      <th>1</th>\n",
       "      <td>Algeria</td>\n",
       "      <td>2017</td>\n",
       "      <td>0.0</td>\n",
       "      <td>0</td>\n",
       "      <td>0</td>\n",
       "      <td>498000.0</td>\n",
       "      <td>1389000.0</td>\n",
       "      <td>0</td>\n",
       "      <td>390.0</td>\n",
       "      <td>3565.0</td>\n",
       "      <td>0.0</td>\n",
       "      <td>0.0</td>\n",
       "      <td>0.00</td>\n",
       "      <td>Africa</td>\n",
       "    </tr>\n",
       "    <tr>\n",
       "      <th>2</th>\n",
       "      <td>Angola</td>\n",
       "      <td>2017</td>\n",
       "      <td>NaN</td>\n",
       "      <td>13316[9970-16600]</td>\n",
       "      <td>4615605</td>\n",
       "      <td>3106000.0</td>\n",
       "      <td>6661000.0</td>\n",
       "      <td>13316</td>\n",
       "      <td>9970.0</td>\n",
       "      <td>16600.0</td>\n",
       "      <td>3874892.0</td>\n",
       "      <td>13967.0</td>\n",
       "      <td>228.91</td>\n",
       "      <td>Africa</td>\n",
       "    </tr>\n",
       "    <tr>\n",
       "      <th>3</th>\n",
       "      <td>Argentina</td>\n",
       "      <td>2017</td>\n",
       "      <td>0.0</td>\n",
       "      <td>0</td>\n",
       "      <td>0</td>\n",
       "      <td>498000.0</td>\n",
       "      <td>1389000.0</td>\n",
       "      <td>0</td>\n",
       "      <td>390.0</td>\n",
       "      <td>3565.0</td>\n",
       "      <td>0.0</td>\n",
       "      <td>1.0</td>\n",
       "      <td>0.00</td>\n",
       "      <td>Americas</td>\n",
       "    </tr>\n",
       "    <tr>\n",
       "      <th>4</th>\n",
       "      <td>Armenia</td>\n",
       "      <td>2017</td>\n",
       "      <td>0.0</td>\n",
       "      <td>0</td>\n",
       "      <td>0</td>\n",
       "      <td>498000.0</td>\n",
       "      <td>1389000.0</td>\n",
       "      <td>0</td>\n",
       "      <td>390.0</td>\n",
       "      <td>3565.0</td>\n",
       "      <td>0.0</td>\n",
       "      <td>1.0</td>\n",
       "      <td>0.00</td>\n",
       "      <td>Europe</td>\n",
       "    </tr>\n",
       "  </tbody>\n",
       "</table>\n",
       "</div>"
      ],
      "text/plain": [
       "       Country  Year  Estimated Cases   Estimated Deaths  No. of cases_median  \\\n",
       "0  Afghanistan  2017              NaN       298[110-510]               630308   \n",
       "1      Algeria  2017              0.0                  0                    0   \n",
       "2       Angola  2017              NaN  13316[9970-16600]              4615605   \n",
       "3    Argentina  2017              0.0                  0                    0   \n",
       "4      Armenia  2017              0.0                  0                    0   \n",
       "\n",
       "   No. of cases_min  No. of cases_max  No. of deaths_median  \\\n",
       "0          495000.0          801000.0                   298   \n",
       "1          498000.0         1389000.0                     0   \n",
       "2         3106000.0         6661000.0                 13316   \n",
       "3          498000.0         1389000.0                     0   \n",
       "4          498000.0         1389000.0                     0   \n",
       "\n",
       "   No. of deaths_min  No. of deaths_max  Reported Cases  Reported Deaths  \\\n",
       "0              110.0              510.0        161778.0             10.0   \n",
       "1              390.0             3565.0             0.0              0.0   \n",
       "2             9970.0            16600.0       3874892.0          13967.0   \n",
       "3              390.0             3565.0             0.0              1.0   \n",
       "4              390.0             3565.0             0.0              1.0   \n",
       "\n",
       "   Malaria Incidence             WHO Region  \n",
       "0              27.07  Eastern Mediterranean  \n",
       "1               0.00                 Africa  \n",
       "2             228.91                 Africa  \n",
       "3               0.00               Americas  \n",
       "4               0.00                 Europe  "
      ]
     },
     "execution_count": 7,
     "metadata": {},
     "output_type": "execute_result"
    }
   ],
   "source": [
    "\n",
    "\n",
    "# Ensure correct data types\n",
    "df_merged['Year'] = pd.to_numeric(df_merged['Year'], errors='coerce').astype('Int64')\n",
    "df_merged['Estimated Cases'] = pd.to_numeric(df_merged['Estimated Cases'], errors='coerce')\n",
    "df_merged['Reported Cases'] = pd.to_numeric(df_merged['Reported Cases'], errors='coerce')\n",
    "df_merged.head()\n",
    "\n"
   ]
  },
  {
   "cell_type": "markdown",
   "metadata": {},
   "source": [
    "Verification Of Dataset Values: checks for scaling\n"
   ]
  },
  {
   "cell_type": "code",
   "execution_count": 8,
   "metadata": {},
   "outputs": [
    {
     "name": "stdout",
     "output_type": "stream",
     "text": [
      "       Estimated Cases  Reported Cases\n",
      "count       312.000000    8.560000e+02\n",
      "mean       2199.551282    6.652528e+05\n",
      "std        6934.423910    1.733589e+06\n",
      "min           0.000000    0.000000e+00\n",
      "25%           0.000000    2.300000e+02\n",
      "50%           7.000000    1.763950e+04\n",
      "75%         552.500000    3.497718e+05\n",
      "max       53156.000000    1.533084e+07\n"
     ]
    }
   ],
   "source": [
    "#show min,max,mean and percentiles for both to see if their values are on different scales.\n",
    "print(df_merged[['Estimated Cases', 'Reported Cases']].describe())\n"
   ]
  },
  {
   "cell_type": "markdown",
   "metadata": {},
   "source": [
    "# MALARIA TREND OVER THE YEARS"
   ]
  },
  {
   "cell_type": "code",
   "execution_count": 9,
   "metadata": {},
   "outputs": [
    {
     "data": {
      "image/png": "[encoded data removed]",
      "text/plain": [
       "<Figure size 1200x600 with 1 Axes>"
      ]
     },
     "metadata": {},
     "output_type": "display_data"
    }
   ],
   "source": [
    "\n",
    "# Convert 'Year' to numeric if it's not already\n",
    "df_merged['Year'] = pd.to_numeric(df_merged['Year'], errors='coerce')\n",
    "\n",
    "# Filter data for the years 2000-2018 (inclusive)\n",
    "df_merged_filtered = df_merged[(df_merged['Year'] >= 2000) & (df_merged['Year'] <= 2018)]\n",
    "\n",
    "# Convert 'No. of cases_median' to numeric, handling errors\n",
    "df_merged_filtered['No. of cases_median'] = pd.to_numeric(df_merged_filtered['No. of cases_median'], errors='coerce')\n",
    "\n",
    "# Group by 'Year' and sum 'No. of cases_median'\n",
    "yearly_cases = df_merged_filtered.groupby('Year')[['No. of cases_median']].sum()\n",
    "\n",
    "# Plotting\n",
    "plt.figure(figsize=(12, 6))\n",
    "plt.plot(yearly_cases.index, yearly_cases['No. of cases_median'], marker='o', linestyle='-', color='skyblue', label='Estimated Cases (Median)')\n",
    "\n",
    "# Adding labels and title\n",
    "plt.xlabel('Year', fontsize=12)\n",
    "plt.ylabel('Number of Cases', fontsize=12)\n",
    "plt.title('Yearly Malaria Cases Across All Countries (2000-2018)', fontsize=14)\n",
    "plt.grid(True)\n",
    "plt.legend(fontsize=10)\n",
    "plt.xticks(rotation=45)\n",
    "plt.tight_layout()\n",
    "\n",
    "# Display the plot\n",
    "plt.show()\n"
   ]
  },
  {
   "cell_type": "markdown",
   "metadata": {},
   "source": [
    "The plot shows a decline in the malaria cases around 2015 starting from 2010,then a slight increase after the dip in 2015"
   ]
  },
  {
   "cell_type": "markdown",
   "metadata": {},
   "source": [
    "\n"
   ]
  }
 ],
 "metadata": {
  "kernelspec": {
   "display_name": ".venv",
   "language": "python",
   "name": "python3"
  },
  "language_info": {
   "codemirror_mode": {
    "name": "ipython",
    "version": 3
   },
   "file_extension": ".py",
   "mimetype": "text/x-python",
   "name": "python",
   "nbconvert_exporter": "python",
   "pygments_lexer": "ipython3",
   "version": "3.12.8"
  }
 },
 "nbformat": 4,
 "nbformat_minor": 2
}
