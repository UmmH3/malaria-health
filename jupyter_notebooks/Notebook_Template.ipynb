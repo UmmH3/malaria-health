{
  "cells": [
    {
      "cell_type": "markdown",
      "metadata": {
        "id": "0aStgWSO0E0E"
      },
      "source": [
        "# **REDUCING MALARIA INCIDENCE IN AFRICA(NIGERIA)**"
      ]
    },
    {
      "cell_type": "markdown",
      "metadata": {
        "id": "1eLEkw5O0ECa"
      },
      "source": [
        "## Objectives\n",
        "\n",
        "* To carry out initial exploratory data analysis by cleaning the raw data and to transform it into useable data needed for the analysis to derive the end goal. The data was sourced from kaggle and stored in a folder labelled \"Raw data\". \n",
        "\n",
        "## Inputs\n",
        "\n",
        "*  Three datasets were sourced from kaggle to be used in the comparative analysis required. In order to run the data and carry out the EDA certain python libraries were imported into the virtual environment in the notebook.\n",
        "\n",
        "## Outputs\n",
        "\n",
        "* Write here which files, code or artefacts you generate by the end of the notebook \n",
        "\n",
        "## Additional Comments\n",
        "\n",
        "* If you have any additional comments that don't fit in the previous bullets, please state them here. \n",
        "\n"
      ]
    },
    {
      "cell_type": "markdown",
      "metadata": {
        "id": "9uWZXH9LwoQg"
      },
      "source": [
        "---"
      ]
    },
    {
      "cell_type": "markdown",
      "metadata": {
        "id": "cqP-UeN-z3i2"
      },
      "source": [
        "# Change working directory"
      ]
    },
    {
      "cell_type": "markdown",
      "metadata": {},
      "source": [
        "* We are assuming you will store the notebooks in a subfolder, therefore when running the notebook in the editor, you will need to change the working directory"
      ]
    },
    {
      "cell_type": "markdown",
      "metadata": {
        "id": "aOGIGS-uz3i2"
      },
      "source": [
        "We need to change the working directory from its current folder to its parent folder\n",
        "* We access the current directory with os.getcwd()"
      ]
    },
    {
      "cell_type": "code",
      "execution_count": 1,
      "metadata": {
        "id": "wZfF_j-Bz3i4",
        "outputId": "66943449-1436-4c3d-85c7-b85f9f78349b"
      },
      "outputs": [
        {
          "data": {
            "text/plain": [
              "'/Users/hafeezahfagbo/Malaria/malaria-health/jupyter_notebooks'"
            ]
          },
          "execution_count": 1,
          "metadata": {},
          "output_type": "execute_result"
        }
      ],
      "source": [
        "import os\n",
        "current_dir = os.getcwd()\n",
        "current_dir"
      ]
    },
    {
      "cell_type": "markdown",
      "metadata": {
        "id": "9MWW8E7lz3i7"
      },
      "source": [
        "We want to make the parent of the current directory the new current directory\n",
        "* os.path.dirname() gets the parent directory\n",
        "* os.chir() defines the new current directory"
      ]
    },
    {
      "cell_type": "code",
      "execution_count": 2,
      "metadata": {
        "id": "TwHsQRWjz3i9",
        "outputId": "86849db3-cd2f-4cc5-ebb8-2d0caafa1a2c"
      },
      "outputs": [
        {
          "name": "stdout",
          "output_type": "stream",
          "text": [
            "You set a new current directory\n"
          ]
        }
      ],
      "source": [
        "os.chdir(os.path.dirname('/Users/hafeezahfagbo/Malaria/malaria-health/jupyter_notebooks'))\n",
        "print(\"You set a new current directory\")"
      ]
    },
    {
      "cell_type": "markdown",
      "metadata": {
        "id": "M_xPk_Ijz3i-"
      },
      "source": [
        "Confirm the new current directory"
      ]
    },
    {
      "cell_type": "code",
      "execution_count": 3,
      "metadata": {
        "id": "vz3S-_kjz3jA",
        "outputId": "00b79ae4-75d0-4a96-d193-ac9ef9847ea2"
      },
      "outputs": [
        {
          "data": {
            "text/plain": [
              "'/Users/hafeezahfagbo/Malaria/malaria-health'"
            ]
          },
          "execution_count": 3,
          "metadata": {},
          "output_type": "execute_result"
        }
      ],
      "source": [
        "current_dir = os.getcwd()\n",
        "current_dir"
      ]
    },
    {
      "cell_type": "markdown",
      "metadata": {
        "id": "-mavJ8DibrcQ"
      },
      "source": [
        "# Section 1"
      ]
    },
    {
      "cell_type": "markdown",
      "metadata": {},
      "source": [
        "Section 1: Import necessary libraries"
      ]
    },
    {
      "cell_type": "code",
      "execution_count": 4,
      "metadata": {},
      "outputs": [],
      "source": [
        "\n",
        "import numpy as np # linear algebra\n",
        "import pandas as pd # data processing, CSV file I/O (e.g. pd.read_csv)\n",
        "import seaborn as sns # visualization\n",
        "import plotly.express as px # visualization\n",
        "import matplotlib.pyplot as plt # plotting"
      ]
    },
    {
      "cell_type": "markdown",
      "metadata": {
        "id": "uFQo3ycuO-v6"
      },
      "source": [
        "# Section 2: EDA; exploratory analysis of dataset"
      ]
    },
    {
      "cell_type": "markdown",
      "metadata": {},
      "source": [
        "First step in analysing is to load the raw data and confirm it loaded correctly."
      ]
    },
    {
      "cell_type": "markdown",
      "metadata": {},
      "source": [
        "---"
      ]
    },
    {
      "cell_type": "code",
      "execution_count": 12,
      "metadata": {},
      "outputs": [
        {
          "name": "stdout",
          "output_type": "stream",
          "text": [
            "       Country  Year              No. of cases      No. of deaths  \\\n",
            "0  Afghanistan  2017     630308[495000-801000]       298[110-510]   \n",
            "1      Algeria  2017                         0                  0   \n",
            "2       Angola  2017  4615605[3106000-6661000]  13316[9970-16600]   \n",
            "3    Argentina  2017                         0                  0   \n",
            "4      Armenia  2017                         0                  0   \n",
            "\n",
            "   No. of cases_median  No. of cases_min  No. of cases_max  \\\n",
            "0               630308          495000.0          801000.0   \n",
            "1                    0               NaN               NaN   \n",
            "2              4615605         3106000.0         6661000.0   \n",
            "3                    0               NaN               NaN   \n",
            "4                    0               NaN               NaN   \n",
            "\n",
            "   No. of deaths_median  No. of deaths_min  No. of deaths_max  \\\n",
            "0                   298              110.0              510.0   \n",
            "1                     0                NaN                NaN   \n",
            "2                 13316             9970.0            16600.0   \n",
            "3                     0                NaN                NaN   \n",
            "4                     0                NaN                NaN   \n",
            "\n",
            "              WHO Region  \n",
            "0  Eastern Mediterranean  \n",
            "1                 Africa  \n",
            "2                 Africa  \n",
            "3               Americas  \n",
            "4                 Europe  \n",
            "       Country  Year  No. of cases  No. of deaths             WHO Region\n",
            "0  Afghanistan  2017      161778.0           10.0  Eastern Mediterranean\n",
            "1      Algeria  2017           0.0            0.0                 Africa\n",
            "2       Angola  2017     3874892.0        13967.0                 Africa\n",
            "3    Argentina  2017           0.0            1.0               Americas\n",
            "4      Armenia  2017           0.0            NaN                 Europe\n",
            "       Country  Year  No. of cases             WHO Region\n",
            "0  Afghanistan  2018         29.01  Eastern Mediterranean\n",
            "1      Algeria  2018          0.00                 Africa\n",
            "2       Angola  2018        228.91                 Africa\n",
            "3    Argentina  2018          0.00               Americas\n",
            "4      Armenia  2018          0.00                 Europe\n"
          ]
        }
      ],
      "source": [
        "#load the datasets\n",
        "df_estimated = pd.read_csv('jupyter_notebooks/raw/estimated_numbers.csv')\n",
        "df_reported = pd.read_csv('jupyter_notebooks/raw/reported_numbers.csv')\n",
        "df_incidence = pd.read_csv('jupyter_notebooks/raw/incidence.csv')\n",
        "\n",
        "#display the first 5 rows of the dataset\n",
        "print(df_estimated.head())\n",
        "print(df_reported.head())\n",
        "print(df_incidence.head())\n"
      ]
    },
    {
      "cell_type": "markdown",
      "metadata": {},
      "source": [
        "NOTE"
      ]
    },
    {
      "cell_type": "code",
      "execution_count": null,
      "metadata": {},
      "outputs": [],
      "source": []
    },
    {
      "cell_type": "markdown",
      "metadata": {},
      "source": [
        "* You may add as many sections as you want, as long as it supports your project workflow.\n",
        "* All notebook's cells should be run top-down (you can't create a dynamic wherein a given point you need to go back to a previous cell to execute some task, like go back to a previous cell and refresh a variable content)"
      ]
    },
    {
      "cell_type": "markdown",
      "metadata": {},
      "source": [
        "---"
      ]
    },
    {
      "cell_type": "markdown",
      "metadata": {
        "id": "ltNetd085qHf"
      },
      "source": [
        "# Push files to Repo"
      ]
    },
    {
      "cell_type": "markdown",
      "metadata": {},
      "source": [
        "* In cases where you don't need to push files to Repo, you may replace this section with \"Conclusions and Next Steps\" and state your conclusions and next steps."
      ]
    },
    {
      "cell_type": "code",
      "execution_count": null,
      "metadata": {
        "id": "aKlnIozA4eQO",
        "outputId": "fd09bc1f-adb1-4511-f6ce-492a6af570c0"
      },
      "outputs": [],
      "source": [
        "import os\n",
        "try:\n",
        "  # create your folder here\n",
        "  # os.makedirs(name='')\n",
        "except Exception as e:\n",
        "  print(e)\n"
      ]
    }
  ],
  "metadata": {
    "accelerator": "GPU",
    "colab": {
      "name": "Data Practitioner Jupyter Notebook.ipynb",
      "provenance": [],
      "toc_visible": true
    },
    "kernelspec": {
      "display_name": ".venv",
      "language": "python",
      "name": "python3"
    },
    "language_info": {
      "codemirror_mode": {
        "name": "ipython",
        "version": 3
      },
      "file_extension": ".py",
      "mimetype": "text/x-python",
      "name": "python",
      "nbconvert_exporter": "python",
      "pygments_lexer": "ipython3",
      "version": "3.12.8"
    },
    "orig_nbformat": 2
  },
  "nbformat": 4,
  "nbformat_minor": 2
}
