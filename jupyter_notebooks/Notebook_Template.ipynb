{
  "cells": [
    {
      "cell_type": "markdown",
      "metadata": {
        "id": "0aStgWSO0E0E"
      },
      "source": [
        "# **REDUCING MALARIA INCIDENCE IN AFRICA(NIGERIA)**"
      ]
    },
    {
      "cell_type": "markdown",
      "metadata": {
        "id": "1eLEkw5O0ECa"
      },
      "source": [
        "## Objectives\n",
        "\n",
        "* To carry out exploratory data analysis by cleaning the raw data and to transform it into useable data needed for the analysis to derive the end goal. The data was sourced from kaggle and stored in a folder labelled \"raw\". \n",
        "\n",
        "## Inputs\n",
        "\n",
        "*  Three datasets were sourced from kaggle to be used in the comparative analysis required. In order to run the data and carry out the EDA certain python libraries were imported into the virtual environment in the notebook.\n",
        "\n",
        "## Outputs\n",
        "\n",
        "* Write here which files, code or artefacts you generate by the end of the notebook \n",
        "\n",
        "## Additional Comments\n",
        "\n",
        "* If you have any additional comments that don't fit in the previous bullets, please state them here. \n",
        "\n"
      ]
    },
    {
      "cell_type": "markdown",
      "metadata": {
        "id": "9uWZXH9LwoQg"
      },
      "source": [
        "---"
      ]
    },
    {
      "cell_type": "markdown",
      "metadata": {
        "id": "cqP-UeN-z3i2"
      },
      "source": [
        "# Change working directory"
      ]
    },
    {
      "cell_type": "markdown",
      "metadata": {},
      "source": [
        "* We are assuming you will store the notebooks in a subfolder, therefore when running the notebook in the editor, you will need to change the working directory"
      ]
    },
    {
      "cell_type": "markdown",
      "metadata": {
        "id": "aOGIGS-uz3i2"
      },
      "source": [
        "We need to change the working directory from its current folder to its parent folder\n",
        "* We access the current directory with os.getcwd()"
      ]
    },
    {
      "cell_type": "code",
      "execution_count": 18,
      "metadata": {
        "id": "wZfF_j-Bz3i4",
        "outputId": "66943449-1436-4c3d-85c7-b85f9f78349b"
      },
      "outputs": [
        {
          "data": {
            "text/plain": [
              "'/Users/hafeezahfagbo/Malaria/malaria-health'"
            ]
          },
          "execution_count": 18,
          "metadata": {},
          "output_type": "execute_result"
        }
      ],
      "source": [
        "import os\n",
        "current_dir = os.getcwd()\n",
        "current_dir"
      ]
    },
    {
      "cell_type": "markdown",
      "metadata": {
        "id": "9MWW8E7lz3i7"
      },
      "source": [
        "We want to make the parent of the current directory the new current directory\n",
        "* os.path.dirname() gets the parent directory\n",
        "* os.chir() defines the new current directory"
      ]
    },
    {
      "cell_type": "code",
      "execution_count": 19,
      "metadata": {
        "id": "TwHsQRWjz3i9",
        "outputId": "86849db3-cd2f-4cc5-ebb8-2d0caafa1a2c"
      },
      "outputs": [
        {
          "name": "stdout",
          "output_type": "stream",
          "text": [
            "You set a new current directory\n"
          ]
        }
      ],
      "source": [
        "os.chdir(os.path.dirname('/Users/hafeezahfagbo/Malaria/malaria-health/jupyter_notebooks'))\n",
        "print(\"You set a new current directory\")"
      ]
    },
    {
      "cell_type": "markdown",
      "metadata": {
        "id": "M_xPk_Ijz3i-"
      },
      "source": [
        "Confirm the new current directory"
      ]
    },
    {
      "cell_type": "code",
      "execution_count": 20,
      "metadata": {
        "id": "vz3S-_kjz3jA",
        "outputId": "00b79ae4-75d0-4a96-d193-ac9ef9847ea2"
      },
      "outputs": [
        {
          "data": {
            "text/plain": [
              "'/Users/hafeezahfagbo/Malaria/malaria-health'"
            ]
          },
          "execution_count": 20,
          "metadata": {},
          "output_type": "execute_result"
        }
      ],
      "source": [
        "current_dir = os.getcwd()\n",
        "current_dir"
      ]
    },
    {
      "cell_type": "markdown",
      "metadata": {
        "id": "-mavJ8DibrcQ"
      },
      "source": [
        "# Section 1"
      ]
    },
    {
      "cell_type": "markdown",
      "metadata": {},
      "source": [
        "Section 1: Import necessary libraries"
      ]
    },
    {
      "cell_type": "code",
      "execution_count": 21,
      "metadata": {},
      "outputs": [],
      "source": [
        "\n",
        "import numpy as np # linear algebra\n",
        "import pandas as pd # data processing, CSV file I/O (e.g. pd.read_csv)\n",
        "import seaborn as sns # visualization\n",
        "import plotly.express as px # visualization\n",
        "import matplotlib.pyplot as plt # plotting"
      ]
    },
    {
      "cell_type": "markdown",
      "metadata": {
        "id": "uFQo3ycuO-v6"
      },
      "source": [
        "# Section 2: ETL; extract,transform and load dataset"
      ]
    },
    {
      "cell_type": "markdown",
      "metadata": {},
      "source": [
        "# **EXTRACT DATASETS**\n",
        "\n",
        "***LOAD RAW DATA***\n",
        "\n",
        "First step in analysing is to load the raw data and confirm it loaded correctly."
      ]
    },
    {
      "cell_type": "markdown",
      "metadata": {},
      "source": [
        "---"
      ]
    },
    {
      "cell_type": "code",
      "execution_count": 22,
      "metadata": {},
      "outputs": [
        {
          "name": "stdout",
          "output_type": "stream",
          "text": [
            "       Country  Year              No. of cases      No. of deaths  \\\n",
            "0  Afghanistan  2017     630308[495000-801000]       298[110-510]   \n",
            "1      Algeria  2017                         0                  0   \n",
            "2       Angola  2017  4615605[3106000-6661000]  13316[9970-16600]   \n",
            "3    Argentina  2017                         0                  0   \n",
            "4      Armenia  2017                         0                  0   \n",
            "\n",
            "   No. of cases_median  No. of cases_min  No. of cases_max  \\\n",
            "0               630308          495000.0          801000.0   \n",
            "1                    0               NaN               NaN   \n",
            "2              4615605         3106000.0         6661000.0   \n",
            "3                    0               NaN               NaN   \n",
            "4                    0               NaN               NaN   \n",
            "\n",
            "   No. of deaths_median  No. of deaths_min  No. of deaths_max  \\\n",
            "0                   298              110.0              510.0   \n",
            "1                     0                NaN                NaN   \n",
            "2                 13316             9970.0            16600.0   \n",
            "3                     0                NaN                NaN   \n",
            "4                     0                NaN                NaN   \n",
            "\n",
            "              WHO Region  \n",
            "0  Eastern Mediterranean  \n",
            "1                 Africa  \n",
            "2                 Africa  \n",
            "3               Americas  \n",
            "4                 Europe  \n",
            "       Country  Year  No. of cases  No. of deaths             WHO Region\n",
            "0  Afghanistan  2017      161778.0           10.0  Eastern Mediterranean\n",
            "1      Algeria  2017           0.0            0.0                 Africa\n",
            "2       Angola  2017     3874892.0        13967.0                 Africa\n",
            "3    Argentina  2017           0.0            1.0               Americas\n",
            "4      Armenia  2017           0.0            NaN                 Europe\n",
            "       Country  Year  No. of cases             WHO Region\n",
            "0  Afghanistan  2018         29.01  Eastern Mediterranean\n",
            "1      Algeria  2018          0.00                 Africa\n",
            "2       Angola  2018        228.91                 Africa\n",
            "3    Argentina  2018          0.00               Americas\n",
            "4      Armenia  2018          0.00                 Europe\n"
          ]
        }
      ],
      "source": [
        "#load the datasets\n",
        "df_estimated = pd.read_csv('jupyter_notebooks/raw/estimated_numbers.csv')\n",
        "df_reported = pd.read_csv('jupyter_notebooks/raw/reported_numbers.csv')\n",
        "df_incidence = pd.read_csv('jupyter_notebooks/raw/incidence.csv')\n",
        "\n",
        "#display the first 5 rows of the dataset\n",
        "print(df_estimated.head())\n",
        "print(df_reported.head())\n",
        "print(df_incidence.head())\n"
      ]
    },
    {
      "cell_type": "markdown",
      "metadata": {},
      "source": [
        "After loading we can view the first 5 rows in each dataset. This confirms it loaded correctly.\n",
        "From this initial step,the inclusion of the median,minimum and maximum values give readily available probability values to work with in the statistical analysis.\n"
      ]
    },
    {
      "cell_type": "markdown",
      "metadata": {},
      "source": [
        "# ***TRANSFORM DATA***\n",
        "\n",
        " INSPECT\n",
        "\n",
        "Check the first few rows to understand the data type,column names,number of rows"
      ]
    },
    {
      "cell_type": "code",
      "execution_count": 23,
      "metadata": {},
      "outputs": [
        {
          "name": "stdout",
          "output_type": "stream",
          "text": [
            "<class 'pandas.core.frame.DataFrame'>\n",
            "RangeIndex: 856 entries, 0 to 855\n",
            "Data columns (total 11 columns):\n",
            " #   Column                Non-Null Count  Dtype  \n",
            "---  ------                --------------  -----  \n",
            " 0   Country               856 non-null    object \n",
            " 1   Year                  856 non-null    int64  \n",
            " 2   No. of cases          856 non-null    object \n",
            " 3   No. of deaths         856 non-null    object \n",
            " 4   No. of cases_median   856 non-null    int64  \n",
            " 5   No. of cases_min      544 non-null    float64\n",
            " 6   No. of cases_max      544 non-null    float64\n",
            " 7   No. of deaths_median  856 non-null    int64  \n",
            " 8   No. of deaths_min     524 non-null    float64\n",
            " 9   No. of deaths_max     524 non-null    float64\n",
            " 10  WHO Region            856 non-null    object \n",
            "dtypes: float64(4), int64(3), object(4)\n",
            "memory usage: 73.7+ KB\n",
            "None\n",
            "<class 'pandas.core.frame.DataFrame'>\n",
            "RangeIndex: 1944 entries, 0 to 1943\n",
            "Data columns (total 5 columns):\n",
            " #   Column         Non-Null Count  Dtype  \n",
            "---  ------         --------------  -----  \n",
            " 0   Country        1944 non-null   object \n",
            " 1   Year           1944 non-null   int64  \n",
            " 2   No. of cases   1710 non-null   float64\n",
            " 3   No. of deaths  1675 non-null   float64\n",
            " 4   WHO Region     1944 non-null   object \n",
            "dtypes: float64(2), int64(1), object(2)\n",
            "memory usage: 76.1+ KB\n",
            "None\n",
            "<class 'pandas.core.frame.DataFrame'>\n",
            "RangeIndex: 2033 entries, 0 to 2032\n",
            "Data columns (total 4 columns):\n",
            " #   Column        Non-Null Count  Dtype  \n",
            "---  ------        --------------  -----  \n",
            " 0   Country       2033 non-null   object \n",
            " 1   Year          2033 non-null   int64  \n",
            " 2   No. of cases  2033 non-null   float64\n",
            " 3   WHO Region    2033 non-null   object \n",
            "dtypes: float64(1), int64(1), object(2)\n",
            "memory usage: 63.7+ KB\n",
            "None\n"
          ]
        }
      ],
      "source": [
        "# Get information about the DataFrame\n",
        "print(df_estimated.info())\n",
        "print(df_reported.info())\n",
        "print(df_incidence.info())"
      ]
    },
    {
      "cell_type": "markdown",
      "metadata": {},
      "source": [
        "From the above code the data type info, the non-null count and column name is shown. Along with the number of rows and columns in each dataframe. \n",
        "The conclusion is there are missing values that requires to be either dropped or filled. The numerical columns need to be standardized. Also check if there are duplicates to be dropped."
      ]
    },
    {
      "cell_type": "markdown",
      "metadata": {},
      "source": [
        " HANDLE MISSING VALUES"
      ]
    },
    {
      "cell_type": "code",
      "execution_count": 24,
      "metadata": {},
      "outputs": [
        {
          "name": "stdout",
          "output_type": "stream",
          "text": [
            "Country                   0\n",
            "Year                      0\n",
            "No. of cases              0\n",
            "No. of deaths             0\n",
            "No. of cases_median       0\n",
            "No. of cases_min        312\n",
            "No. of cases_max        312\n",
            "No. of deaths_median      0\n",
            "No. of deaths_min       332\n",
            "No. of deaths_max       332\n",
            "WHO Region                0\n",
            "dtype: int64\n",
            "Country            0\n",
            "Year               0\n",
            "No. of cases     234\n",
            "No. of deaths    269\n",
            "WHO Region         0\n",
            "dtype: int64\n",
            "Country         0\n",
            "Year            0\n",
            "No. of cases    0\n",
            "WHO Region      0\n",
            "dtype: int64\n"
          ]
        }
      ],
      "source": [
        "#Check for missing values\n",
        "print(df_estimated.isnull().sum())\n",
        "print(df_reported.isnull().sum())\n",
        "print(df_incidence.isnull().sum())\n",
        "\n"
      ]
    },
    {
      "cell_type": "code",
      "execution_count": 25,
      "metadata": {},
      "outputs": [
        {
          "name": "stdout",
          "output_type": "stream",
          "text": [
            "Country                 0\n",
            "Year                    0\n",
            "No. of cases            0\n",
            "No. of deaths           0\n",
            "No. of cases_median     0\n",
            "No. of cases_min        0\n",
            "No. of cases_max        0\n",
            "No. of deaths_median    0\n",
            "No. of deaths_min       0\n",
            "No. of deaths_max       0\n",
            "WHO Region              0\n",
            "dtype: int64\n",
            "Country          0\n",
            "Year             0\n",
            "No. of cases     0\n",
            "No. of deaths    0\n",
            "WHO Region       0\n",
            "dtype: int64\n"
          ]
        },
        {
          "name": "stderr",
          "output_type": "stream",
          "text": [
            "/var/folders/5w/h15_hs_x2dqcp2vlqtmrxlqm0000gn/T/ipykernel_23489/2102009072.py:11: FutureWarning: DataFrame.fillna with 'method' is deprecated and will raise in a future version. Use obj.ffill() or obj.bfill() instead.\n",
            "  df_reported.fillna(method=\"ffill\", inplace=True)\n"
          ]
        }
      ],
      "source": [
        "#Different methods are used to handle the missing data in these datasets\n",
        "#Since no missing value in the incidence dataset, we will start with the estimated dataset\n",
        "\n",
        "#Replace missing values in min/max cases and deaths with the median\n",
        "df_estimated[\"No. of cases_min\"].fillna(df_estimated[\"No. of cases_min\"].median(), inplace=True)\n",
        "df_estimated[\"No. of cases_max\"].fillna(df_estimated[\"No. of cases_max\"].median(), inplace=True)\n",
        "df_estimated[\"No. of deaths_min\"].fillna(df_estimated[\"No. of deaths_min\"].median(), inplace=True)\n",
        "df_estimated[\"No. of deaths_max\"].fillna(df_estimated[\"No. of deaths_max\"].median(), inplace=True)\n",
        "\n",
        "#Fill missing reported cases and deaths with (ffill)\n",
        "df_reported.fillna(method=\"ffill\", inplace=True)\n",
        "\n",
        "\n",
        "#Drop columns with more than 50% missing values\n",
        "df_estimated.dropna(thresh=df_estimated.shape[1] * 0.5, inplace=True)\n",
        "df_reported.dropna(thresh=df_reported.shape[1] * 0.5, inplace=True)\n",
        "\n",
        "#Check for missing values are handled\n",
        "print(df_estimated.isnull().sum())\n",
        "print(df_reported.isnull().sum())"
      ]
    },
    {
      "cell_type": "markdown",
      "metadata": {},
      "source": [
        " STANDARDIZE COLUMN"
      ]
    },
    {
      "cell_type": "code",
      "execution_count": 26,
      "metadata": {},
      "outputs": [],
      "source": [
        "#Standardize the column names to keep names uniform for merging\n",
        "df_estimated.rename(columns={\"No. of cases\": \"Estimated Cases\", \"No. of deaths\": \"Estimated Deaths\"}, inplace=True)\n",
        "df_reported.rename(columns={\"No. of cases\": \"Reported Cases\", \"No. of deaths\": \"Reported Deaths\"}, inplace=True)\n",
        "df_incidence.rename(columns={\"No. of cases\": \"Malaria Incidence\"}, inplace=True)\n",
        "\n",
        "#Convert Data Types,ensure all numerical columns are of type int\n",
        "df_estimated[\"Year\"] = df_estimated[\"Year\"].astype(int)\n",
        "df_reported[\"Year\"] = df_reported[\"Year\"].astype(int)\n",
        "df_incidence[\"Year\"] = df_incidence[\"Year\"].astype(int)\n"
      ]
    },
    {
      "cell_type": "markdown",
      "metadata": {},
      "source": [
        "MERGE THE 3 DATASETS\n",
        "\n",
        "The 3 datasets are merged on Country and Year in order to have a single dataset for analysis"
      ]
    },
    {
      "cell_type": "code",
      "execution_count": 27,
      "metadata": {},
      "outputs": [
        {
          "data": {
            "text/html": [
              "<div>\n",
              "<style scoped>\n",
              "    .dataframe tbody tr th:only-of-type {\n",
              "        vertical-align: middle;\n",
              "    }\n",
              "\n",
              "    .dataframe tbody tr th {\n",
              "        vertical-align: top;\n",
              "    }\n",
              "\n",
              "    .dataframe thead th {\n",
              "        text-align: right;\n",
              "    }\n",
              "</style>\n",
              "<table border=\"1\" class=\"dataframe\">\n",
              "  <thead>\n",
              "    <tr style=\"text-align: right;\">\n",
              "      <th></th>\n",
              "      <th>Country</th>\n",
              "      <th>Year</th>\n",
              "      <th>Estimated Cases</th>\n",
              "      <th>Estimated Deaths</th>\n",
              "      <th>No. of cases_median</th>\n",
              "      <th>No. of cases_min</th>\n",
              "      <th>No. of cases_max</th>\n",
              "      <th>No. of deaths_median</th>\n",
              "      <th>No. of deaths_min</th>\n",
              "      <th>No. of deaths_max</th>\n",
              "      <th>WHO Region_x</th>\n",
              "      <th>Reported Cases</th>\n",
              "      <th>Reported Deaths</th>\n",
              "      <th>WHO Region_y</th>\n",
              "      <th>Malaria Incidence</th>\n",
              "      <th>WHO Region</th>\n",
              "    </tr>\n",
              "  </thead>\n",
              "  <tbody>\n",
              "    <tr>\n",
              "      <th>0</th>\n",
              "      <td>Afghanistan</td>\n",
              "      <td>2017</td>\n",
              "      <td>630308[495000-801000]</td>\n",
              "      <td>298[110-510]</td>\n",
              "      <td>630308</td>\n",
              "      <td>495000.0</td>\n",
              "      <td>801000.0</td>\n",
              "      <td>298</td>\n",
              "      <td>110.0</td>\n",
              "      <td>510.0</td>\n",
              "      <td>Eastern Mediterranean</td>\n",
              "      <td>161778.0</td>\n",
              "      <td>10.0</td>\n",
              "      <td>Eastern Mediterranean</td>\n",
              "      <td>27.07</td>\n",
              "      <td>Eastern Mediterranean</td>\n",
              "    </tr>\n",
              "    <tr>\n",
              "      <th>1</th>\n",
              "      <td>Algeria</td>\n",
              "      <td>2017</td>\n",
              "      <td>0</td>\n",
              "      <td>0</td>\n",
              "      <td>0</td>\n",
              "      <td>498000.0</td>\n",
              "      <td>1389000.0</td>\n",
              "      <td>0</td>\n",
              "      <td>390.0</td>\n",
              "      <td>3565.0</td>\n",
              "      <td>Africa</td>\n",
              "      <td>0.0</td>\n",
              "      <td>0.0</td>\n",
              "      <td>Africa</td>\n",
              "      <td>0.00</td>\n",
              "      <td>Africa</td>\n",
              "    </tr>\n",
              "    <tr>\n",
              "      <th>2</th>\n",
              "      <td>Angola</td>\n",
              "      <td>2017</td>\n",
              "      <td>4615605[3106000-6661000]</td>\n",
              "      <td>13316[9970-16600]</td>\n",
              "      <td>4615605</td>\n",
              "      <td>3106000.0</td>\n",
              "      <td>6661000.0</td>\n",
              "      <td>13316</td>\n",
              "      <td>9970.0</td>\n",
              "      <td>16600.0</td>\n",
              "      <td>Africa</td>\n",
              "      <td>3874892.0</td>\n",
              "      <td>13967.0</td>\n",
              "      <td>Africa</td>\n",
              "      <td>228.91</td>\n",
              "      <td>Africa</td>\n",
              "    </tr>\n",
              "    <tr>\n",
              "      <th>3</th>\n",
              "      <td>Argentina</td>\n",
              "      <td>2017</td>\n",
              "      <td>0</td>\n",
              "      <td>0</td>\n",
              "      <td>0</td>\n",
              "      <td>498000.0</td>\n",
              "      <td>1389000.0</td>\n",
              "      <td>0</td>\n",
              "      <td>390.0</td>\n",
              "      <td>3565.0</td>\n",
              "      <td>Americas</td>\n",
              "      <td>0.0</td>\n",
              "      <td>1.0</td>\n",
              "      <td>Americas</td>\n",
              "      <td>0.00</td>\n",
              "      <td>Americas</td>\n",
              "    </tr>\n",
              "    <tr>\n",
              "      <th>4</th>\n",
              "      <td>Armenia</td>\n",
              "      <td>2017</td>\n",
              "      <td>0</td>\n",
              "      <td>0</td>\n",
              "      <td>0</td>\n",
              "      <td>498000.0</td>\n",
              "      <td>1389000.0</td>\n",
              "      <td>0</td>\n",
              "      <td>390.0</td>\n",
              "      <td>3565.0</td>\n",
              "      <td>Europe</td>\n",
              "      <td>0.0</td>\n",
              "      <td>1.0</td>\n",
              "      <td>Europe</td>\n",
              "      <td>0.00</td>\n",
              "      <td>Europe</td>\n",
              "    </tr>\n",
              "  </tbody>\n",
              "</table>\n",
              "</div>"
            ],
            "text/plain": [
              "       Country  Year           Estimated Cases   Estimated Deaths  \\\n",
              "0  Afghanistan  2017     630308[495000-801000]       298[110-510]   \n",
              "1      Algeria  2017                         0                  0   \n",
              "2       Angola  2017  4615605[3106000-6661000]  13316[9970-16600]   \n",
              "3    Argentina  2017                         0                  0   \n",
              "4      Armenia  2017                         0                  0   \n",
              "\n",
              "   No. of cases_median  No. of cases_min  No. of cases_max  \\\n",
              "0               630308          495000.0          801000.0   \n",
              "1                    0          498000.0         1389000.0   \n",
              "2              4615605         3106000.0         6661000.0   \n",
              "3                    0          498000.0         1389000.0   \n",
              "4                    0          498000.0         1389000.0   \n",
              "\n",
              "   No. of deaths_median  No. of deaths_min  No. of deaths_max  \\\n",
              "0                   298              110.0              510.0   \n",
              "1                     0              390.0             3565.0   \n",
              "2                 13316             9970.0            16600.0   \n",
              "3                     0              390.0             3565.0   \n",
              "4                     0              390.0             3565.0   \n",
              "\n",
              "            WHO Region_x  Reported Cases  Reported Deaths  \\\n",
              "0  Eastern Mediterranean        161778.0             10.0   \n",
              "1                 Africa             0.0              0.0   \n",
              "2                 Africa       3874892.0          13967.0   \n",
              "3               Americas             0.0              1.0   \n",
              "4                 Europe             0.0              1.0   \n",
              "\n",
              "            WHO Region_y  Malaria Incidence             WHO Region  \n",
              "0  Eastern Mediterranean              27.07  Eastern Mediterranean  \n",
              "1                 Africa               0.00                 Africa  \n",
              "2                 Africa             228.91                 Africa  \n",
              "3               Americas               0.00               Americas  \n",
              "4                 Europe               0.00                 Europe  "
            ]
          },
          "execution_count": 27,
          "metadata": {},
          "output_type": "execute_result"
        }
      ],
      "source": [
        "df_merged = df_estimated.merge(df_reported, on=[\"Country\", \"Year\"], how=\"inner\")\n",
        "df_merged = df_merged.merge(df_incidence, on=[\"Country\", \"Year\"], how=\"inner\")\n",
        "\n",
        "df_merged.head()"
      ]
    },
    {
      "cell_type": "markdown",
      "metadata": {},
      "source": [
        "---"
      ]
    },
    {
      "cell_type": "markdown",
      "metadata": {},
      "source": [
        "# Checking for inconsistencies in the merged datasets"
      ]
    },
    {
      "cell_type": "markdown",
      "metadata": {},
      "source": [
        "The above output of the 3 datasets shows the WHO Region column has been duplicated. Since the columns are similar contaning same variable,the 2 duplicates will be dropped. I will also check for any further inconsistencies in this merged datasets before analysis begins."
      ]
    },
    {
      "cell_type": "code",
      "execution_count": 28,
      "metadata": {},
      "outputs": [
        {
          "name": "stdout",
          "output_type": "stream",
          "text": [
            "       Country  Year           Estimated Cases   Estimated Deaths  \\\n",
            "0  Afghanistan  2017     630308[495000-801000]       298[110-510]   \n",
            "1      Algeria  2017                         0                  0   \n",
            "2       Angola  2017  4615605[3106000-6661000]  13316[9970-16600]   \n",
            "3    Argentina  2017                         0                  0   \n",
            "4      Armenia  2017                         0                  0   \n",
            "\n",
            "   No. of cases_median  No. of cases_min  No. of cases_max  \\\n",
            "0               630308          495000.0          801000.0   \n",
            "1                    0          498000.0         1389000.0   \n",
            "2              4615605         3106000.0         6661000.0   \n",
            "3                    0          498000.0         1389000.0   \n",
            "4                    0          498000.0         1389000.0   \n",
            "\n",
            "   No. of deaths_median  No. of deaths_min  No. of deaths_max  Reported Cases  \\\n",
            "0                   298              110.0              510.0        161778.0   \n",
            "1                     0              390.0             3565.0             0.0   \n",
            "2                 13316             9970.0            16600.0       3874892.0   \n",
            "3                     0              390.0             3565.0             0.0   \n",
            "4                     0              390.0             3565.0             0.0   \n",
            "\n",
            "   Reported Deaths  Malaria Incidence             WHO Region  \n",
            "0             10.0              27.07  Eastern Mediterranean  \n",
            "1              0.0               0.00                 Africa  \n",
            "2          13967.0             228.91                 Africa  \n",
            "3              1.0               0.00               Americas  \n",
            "4              1.0               0.00                 Europe  \n"
          ]
        }
      ],
      "source": [
        "# Drop duplicate columns\n",
        "df_merged.drop(columns=['WHO Region_x' , 'WHO Region_y'], inplace=True)\n",
        "print(df_merged.head())\n"
      ]
    },
    {
      "cell_type": "code",
      "execution_count": 29,
      "metadata": {},
      "outputs": [
        {
          "name": "stdout",
          "output_type": "stream",
          "text": [
            "Negative values in case or death estimates:\n",
            "Empty DataFrame\n",
            "Columns: [Country, Year, Estimated Cases, Estimated Deaths, No. of cases_median, No. of cases_min, No. of cases_max, No. of deaths_median, No. of deaths_min, No. of deaths_max, Reported Cases, Reported Deaths, Malaria Incidence, WHO Region]\n",
            "Index: []\n",
            "Empty DataFrame\n",
            "Columns: [Country, Year, Estimated Cases, Estimated Deaths, No. of cases_median, No. of cases_min, No. of cases_max, No. of deaths_median, No. of deaths_min, No. of deaths_max, Reported Cases, Reported Deaths, Malaria Incidence, WHO Region]\n",
            "Index: []\n"
          ]
        }
      ],
      "source": [
        "#Check for negative values\n",
        "print(\"Negative values in case or death estimates:\")\n",
        "negative_cases = df_merged[(df_merged['No. of cases_median'] < 0) | \n",
        "                           (df_merged['No. of cases_min'] < 0) | \n",
        "                           (df_merged['No. of cases_max'] < 0)]\n",
        "negative_deaths = df_merged[(df_merged['No. of deaths_median'] < 0) | \n",
        "                            (df_merged['No. of deaths_min'] < 0) | \n",
        "                            (df_merged['No. of deaths_max'] < 0)]\n",
        "\n",
        "print(negative_cases)\n",
        "print(negative_deaths)\n"
      ]
    },
    {
      "cell_type": "code",
      "execution_count": null,
      "metadata": {},
      "outputs": [
        {
          "name": "stdout",
          "output_type": "stream",
          "text": [
            "Missing values in the dataset:\n",
            "Country                 0\n",
            "Year                    0\n",
            "Estimated Cases         0\n",
            "Estimated Deaths        0\n",
            "No. of cases_median     0\n",
            "No. of cases_min        0\n",
            "No. of cases_max        0\n",
            "No. of deaths_median    0\n",
            "No. of deaths_min       0\n",
            "No. of deaths_max       0\n",
            "Reported Cases          0\n",
            "Reported Deaths         0\n",
            "Malaria Incidence       0\n",
            "WHO Region              0\n",
            "dtype: int64\n"
          ]
        }
      ],
      "source": [
        "#Checks for any missing values in the merged dataset\n",
        "print(\"Missing values in the dataset:\")\n",
        "print(df_merged.isnull().sum())\n"
      ]
    },
    {
      "cell_type": "code",
      "execution_count": null,
      "metadata": {},
      "outputs": [
        {
          "name": "stdout",
          "output_type": "stream",
          "text": [
            "              Year  No. of cases_median  No. of cases_min  No. of cases_max  \\\n",
            "count   856.000000         8.560000e+02      8.560000e+02      8.560000e+02   \n",
            "mean   2013.500000         2.081990e+06      1.552671e+06      3.629022e+06   \n",
            "std       2.292627         6.381892e+06      4.365077e+06      8.950683e+06   \n",
            "min    2010.000000         0.000000e+00      3.000000e+01      4.000000e+01   \n",
            "25%    2011.750000         2.385000e+02      1.997500e+05      4.637500e+05   \n",
            "50%    2013.500000         3.752100e+04      4.980000e+05      1.389000e+06   \n",
            "75%    2015.250000         1.656628e+06      8.857500e+05      2.697750e+06   \n",
            "max    2017.000000         6.202089e+07      4.388000e+07      8.484000e+07   \n",
            "\n",
            "       No. of deaths_median  No. of deaths_min  No. of deaths_max  \\\n",
            "count            856.000000         856.000000         856.000000   \n",
            "mean            4713.880841        3590.996495        7595.655374   \n",
            "std            13183.312889       10348.503549       16101.378050   \n",
            "min                0.000000           0.000000           1.000000   \n",
            "25%                0.000000          80.000000        1352.500000   \n",
            "50%               55.500000         390.000000        3565.000000   \n",
            "75%             4096.000000        1772.500000        5920.000000   \n",
            "max           146734.000000      115000.000000      179000.000000   \n",
            "\n",
            "       Reported Cases  Reported Deaths  Malaria Incidence  \n",
            "count    8.560000e+02       856.000000         856.000000  \n",
            "mean     6.652528e+05      1182.592290          91.608855  \n",
            "std      1.733589e+06      3550.697097         140.085468  \n",
            "min      0.000000e+00         0.000000           0.000000  \n",
            "25%      2.300000e+02         0.000000           0.147500  \n",
            "50%      1.763950e+04        18.000000           7.090000  \n",
            "75%      3.497718e+05       652.250000         155.460000  \n",
            "max      1.533084e+07     39054.000000         585.540000  \n"
          ]
        }
      ],
      "source": [
        "#gives a summary of the dataset\n",
        "print(df_merged.describe())"
      ]
    },
    {
      "cell_type": "markdown",
      "metadata": {},
      "source": [
        "# Push files to Repo"
      ]
    },
    {
      "cell_type": "markdown",
      "metadata": {},
      "source": [
        "* In cases where you don't need to push files to Repo, you may replace this section with \"Conclusions and Next Steps\" and state your conclusions and next steps."
      ]
    },
    {
      "cell_type": "code",
      "execution_count": 32,
      "metadata": {
        "id": "aKlnIozA4eQO",
        "outputId": "fd09bc1f-adb1-4511-f6ce-492a6af570c0"
      },
      "outputs": [
        {
          "ename": "IndentationError",
          "evalue": "expected an indented block after 'try' statement on line 2 (553063055.py, line 5)",
          "output_type": "error",
          "traceback": [
            "  \u001b[36mCell\u001b[39m\u001b[36m \u001b[39m\u001b[32mIn[32]\u001b[39m\u001b[32m, line 5\u001b[39m\n\u001b[31m    \u001b[39m\u001b[31mexcept Exception as e:\u001b[39m\n    ^\n\u001b[31mIndentationError\u001b[39m\u001b[31m:\u001b[39m expected an indented block after 'try' statement on line 2\n"
          ]
        }
      ],
      "source": [
        "import os\n",
        "try:\n",
        "  # create your folder here\n",
        "  # os.makedirs(name='')\n",
        "except Exception as e:\n",
        "  print(e)\n"
      ]
    }
  ],
  "metadata": {
    "accelerator": "GPU",
    "colab": {
      "name": "Data Practitioner Jupyter Notebook.ipynb",
      "provenance": [],
      "toc_visible": true
    },
    "kernelspec": {
      "display_name": ".venv",
      "language": "python",
      "name": "python3"
    },
    "language_info": {
      "codemirror_mode": {
        "name": "ipython",
        "version": 3
      },
      "file_extension": ".py",
      "mimetype": "text/x-python",
      "name": "python",
      "nbconvert_exporter": "python",
      "pygments_lexer": "ipython3",
      "version": "3.12.8"
    },
    "orig_nbformat": 2
  },
  "nbformat": 4,
  "nbformat_minor": 2
}
